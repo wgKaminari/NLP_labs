{
 "cells": [
  {
   "cell_type": "code",
   "execution_count": null,
   "id": "7db0d8ba",
   "metadata": {},
   "outputs": [],
   "source": []
  }
 ],
 "metadata": {
  "language_info": {
   "name": "python"
  }
 },
 "nbformat": 4,
 "nbformat_minor": 5
}
