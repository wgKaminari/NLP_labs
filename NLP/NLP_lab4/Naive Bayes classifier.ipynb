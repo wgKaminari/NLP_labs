{
 "cells": [
  {
   "cell_type": "markdown",
   "id": "b05f8c18",
   "metadata": {},
   "source": [
    "# Naive Bayes classifier"
   ]
  },
  {
   "cell_type": "markdown",
   "id": "64fba3ef",
   "metadata": {},
   "source": [
    "![Alt texts](1.png)"
   ]
  },
  {
   "cell_type": "markdown",
   "id": "e65c9731",
   "metadata": {},
   "source": [
    "## Task 0. \n",
    "Execute the notebook."
   ]
  },
  {
   "cell_type": "markdown",
   "id": "3be6ad02",
   "metadata": {},
   "source": [
    "### 1. Prepare models"
   ]
  },
  {
   "cell_type": "markdown",
   "id": "ca34fc29",
   "metadata": {},
   "source": [
    "### 1.1. Use function from lab3"
   ]
  },
  {
   "cell_type": "markdown",
   "id": "d702dee0",
   "metadata": {},
   "source": [
    "### -------------------------------------------------------------------------------"
   ]
  },
  {
   "cell_type": "code",
   "execution_count": 3,
   "id": "698ae2ac",
   "metadata": {},
   "outputs": [],
   "source": [
    "# Imports\n",
    "import nltk\n",
    "from nltk.corpus import twitter_samples\n",
    "from nltk.stem.wordnet import WordNetLemmatizer\n",
    "from nltk.corpus import stopwords\n",
    "from nltk import pos_tag\n",
    "import re\n",
    "import string\n",
    "from nltk.corpus import wordnet"
   ]
  },
  {
   "cell_type": "code",
   "execution_count": 4,
   "id": "8f7c4bc6",
   "metadata": {},
   "outputs": [],
   "source": [
    "stop_words = stopwords.words('english')\n",
    "lemmatizer = WordNetLemmatizer()\n",
    "def process_tokens(tweet_tokens):\n",
    "    cleaned_tokens = []\n",
    "\n",
    "    def get_wordnet_pos(tag):\n",
    "        if tag.startswith('NN'):\n",
    "            return wordnet.NOUN\n",
    "        elif tag.startswith('VB'):\n",
    "            return wordnet.VERB\n",
    "        elif tag.startswith('JJ'):\n",
    "            return wordnet.ADJ\n",
    "        elif tag.startswith('RB'):\n",
    "            return wordnet.ADV\n",
    "        else:\n",
    "            return wordnet.NOUN  # Default to noun\n",
    "\n",
    "    for token, tag in pos_tag(tweet_tokens):\n",
    "        token_lower = token.lower()\n",
    "        # Delete URLs and mentions\n",
    "        if re.match(r'^https?://', token_lower) or token_lower.startswith('@'):\n",
    "            continue\n",
    "        # Delete stop words and punctuation\n",
    "        if token_lower in stop_words or token_lower in string.punctuation:\n",
    "            continue\n",
    "        # Lemmatize the token\n",
    "        pos = get_wordnet_pos(tag)\n",
    "        lemmatized_token = lemmatizer.lemmatize(token_lower, pos)\n",
    "        cleaned_tokens.append(lemmatized_token)\n",
    "\n",
    "    return cleaned_tokens"
   ]
  },
  {
   "cell_type": "code",
   "execution_count": 5,
   "id": "698ae2ac",
   "metadata": {},
   "outputs": [],
   "source": [
    "positive_tweet_tokens = twitter_samples.tokenized('positive_tweets.json')\n",
    "negative_tweet_tokens = twitter_samples.tokenized('negative_tweets.json')\n",
    "\n",
    "positive_cleaned_tokens_list = [process_tokens(tokens) for tokens in positive_tweet_tokens]\n",
    "negative_cleaned_tokens_list = [process_tokens(tokens) for tokens in negative_tweet_tokens]"
   ]
  },
  {
   "cell_type": "markdown",
   "id": "a90d62dc",
   "metadata": {},
   "source": [
    "### -------------------------------------------------------------------------------"
   ]
  },
  {
   "cell_type": "code",
   "execution_count": 6,
   "id": "ad9d73c0",
   "metadata": {},
   "outputs": [
    {
     "data": {
      "text/plain": [
       "['#followfriday', 'top', 'engage', 'member', 'community', 'week', ':)']"
      ]
     },
     "execution_count": 6,
     "metadata": {},
     "output_type": "execute_result"
    }
   ],
   "source": [
    "[tweet_tokens for tweet_tokens in positive_cleaned_tokens_list][0]"
   ]
  },
  {
   "cell_type": "code",
   "execution_count": 7,
   "id": "7853becc",
   "metadata": {},
   "outputs": [],
   "source": [
    "def get_token_dict(tokens):\n",
    "    return dict([token, True] for token in tokens)\n",
    "    \n",
    "def get_tweets_for_model(cleaned_tokens_list):   \n",
    "    return [get_token_dict(tweet_tokens) for tweet_tokens in cleaned_tokens_list]\n",
    "\n",
    "positive_tokens_for_model = get_tweets_for_model(positive_cleaned_tokens_list)\n",
    "negative_tokens_for_model = get_tweets_for_model(negative_cleaned_tokens_list)"
   ]
  },
  {
   "cell_type": "code",
   "execution_count": 8,
   "id": "6045ee97",
   "metadata": {},
   "outputs": [],
   "source": [
    "import random\n",
    "\n",
    "positive_dataset = [(tweet_dict, \"Positive\")\n",
    "                     for tweet_dict in positive_tokens_for_model]\n",
    "\n",
    "negative_dataset = [(tweet_dict, \"Negative\")\n",
    "                     for tweet_dict in negative_tokens_for_model]\n",
    "\n",
    "dataset = positive_dataset + negative_dataset\n",
    "\n",
    "random.shuffle(dataset)\n",
    "\n",
    "train_data = dataset[:7000]\n",
    "test_data = dataset[7000:]"
   ]
  },
  {
   "cell_type": "markdown",
   "id": "a6ba0c43",
   "metadata": {},
   "source": [
    "# 2. Run the Naive Bayes classifier."
   ]
  },
  {
   "cell_type": "code",
   "execution_count": 9,
   "id": "5dcefc0d",
   "metadata": {},
   "outputs": [
    {
     "name": "stdout",
     "output_type": "stream",
     "text": [
      "Accuracy is: 0.9973333333333333\n",
      "Most Informative Features\n",
      "                      :( = True           Negati : Positi =   2067.6 : 1.0\n",
      "                      :) = True           Positi : Negati =    979.9 : 1.0\n",
      "                follower = True           Positi : Negati =     38.1 : 1.0\n",
      "                     sad = True           Negati : Positi =     37.2 : 1.0\n",
      "                    glad = True           Positi : Negati =     20.9 : 1.0\n",
      "                     via = True           Positi : Negati =     16.6 : 1.0\n",
      "                followed = True           Negati : Positi =     15.5 : 1.0\n",
      "                    miss = True           Negati : Positi =     14.5 : 1.0\n",
      "                  arrive = True           Positi : Negati =     13.8 : 1.0\n",
      "               community = True           Positi : Negati =     13.6 : 1.0\n",
      "None\n"
     ]
    }
   ],
   "source": [
    "from nltk import classify\n",
    "from nltk import NaiveBayesClassifier\n",
    "classifier = NaiveBayesClassifier.train(train_data)\n",
    "\n",
    "print(\"Accuracy is:\", classify.accuracy(classifier, test_data))\n",
    "\n",
    "print(classifier.show_most_informative_features(10))"
   ]
  },
  {
   "cell_type": "code",
   "execution_count": 10,
   "id": "c5747ca5",
   "metadata": {},
   "outputs": [],
   "source": [
    "#nltk.download('punkt_tab')"
   ]
  },
  {
   "cell_type": "code",
   "execution_count": 11,
   "id": "5cb2fcce",
   "metadata": {},
   "outputs": [
    {
     "name": "stdout",
     "output_type": "stream",
     "text": [
      "Negative\n"
     ]
    }
   ],
   "source": [
    "from nltk.tokenize import word_tokenize\n",
    "\n",
    "custom_tweet = \"the service was so bad\"\n",
    "\n",
    "custom_tokens = process_tokens(word_tokenize(custom_tweet))\n",
    "\n",
    "print(classifier.classify(get_token_dict(custom_tokens)))"
   ]
  },
  {
   "cell_type": "code",
   "execution_count": 12,
   "id": "03ad4b69",
   "metadata": {},
   "outputs": [
    {
     "name": "stdout",
     "output_type": "stream",
     "text": [
      "bad :  Negative\n",
      "service is bad :  Negative\n",
      "service is really bad :  Negative\n",
      "service is so terrible :  Negative\n",
      "great service :  Positive\n",
      "they stole my money :  Negative\n"
     ]
    }
   ],
   "source": [
    "def get_sentiment(text):\n",
    "    custom_tokens = process_tokens(word_tokenize(text))\n",
    "    return classifier.classify(get_token_dict(custom_tokens))\n",
    "\n",
    "texts = [\"bad\", \"service is bad\", \"service is really bad\", \"service is so terrible\", \"great service\", \"they stole my money\"]\n",
    "for t in texts:\n",
    "    print(t, \": \", get_sentiment(t))"
   ]
  },
  {
   "cell_type": "markdown",
   "id": "4fbb848f",
   "metadata": {},
   "source": [
    "## Task 1.\n",
    "Re-train the classifier on a different set of data. For instance, use a dataset from HuggingFace or Kaggle."
   ]
  },
  {
   "cell_type": "code",
   "execution_count": 13,
   "id": "1329f1f3",
   "metadata": {},
   "outputs": [],
   "source": [
    "#pip install datasets"
   ]
  },
  {
   "cell_type": "code",
   "execution_count": 14,
   "id": "a5df0bb8",
   "metadata": {},
   "outputs": [
    {
     "name": "stderr",
     "output_type": "stream",
     "text": [
      "c:\\Users\\wgkam\\AppData\\Local\\Programs\\Python\\Python313\\Lib\\site-packages\\tqdm\\auto.py:21: TqdmWarning: IProgress not found. Please update jupyter and ipywidgets. See https://ipywidgets.readthedocs.io/en/stable/user_install.html\n",
      "  from .autonotebook import tqdm as notebook_tqdm\n"
     ]
    }
   ],
   "source": [
    "from datasets import load_dataset\n",
    "\n",
    "# Завантаження датасету\n",
    "dataset = load_dataset(\"gxb912/large-twitter-tweets-sentiment\")\n"
   ]
  },
  {
   "cell_type": "code",
   "execution_count": 15,
   "id": "f242ee6c",
   "metadata": {},
   "outputs": [],
   "source": [
    "def get_token_dict(tokens):\n",
    "    return dict([token, True] for token in tokens)\n",
    "\n",
    "def get_tweets_for_model(cleaned_tokens_list):\n",
    "    return [get_token_dict(tweet_tokens) for tweet_tokens in cleaned_tokens_list]\n"
   ]
  },
  {
   "cell_type": "code",
   "execution_count": 16,
   "id": "b4603e0a",
   "metadata": {},
   "outputs": [],
   "source": [
    "# Обробка текстів\n",
    "positive_cleaned_tokens_list = []\n",
    "negative_cleaned_tokens_list = []\n",
    "\n",
    "for example in dataset['train']:\n",
    "    tokens = word_tokenize(example['text'])\n",
    "    cleaned_tokens = process_tokens(tokens)\n",
    "    if example['sentiment'] == 1:\n",
    "        positive_cleaned_tokens_list.append(cleaned_tokens)\n",
    "    else:\n",
    "        negative_cleaned_tokens_list.append(cleaned_tokens)\n",
    "\n",
    "# Підготовка даних для моделі\n",
    "positive_tokens_for_model = get_tweets_for_model(positive_cleaned_tokens_list)\n",
    "negative_tokens_for_model = get_tweets_for_model(negative_cleaned_tokens_list)\n"
   ]
  },
  {
   "cell_type": "code",
   "execution_count": 18,
   "id": "9f3e6187",
   "metadata": {},
   "outputs": [],
   "source": [
    "import random\n",
    "\n",
    "positive_dataset = [(tweet_dict, \"Positive\") for tweet_dict in positive_tokens_for_model]\n",
    "negative_dataset = [(tweet_dict, \"Negative\") for tweet_dict in negative_tokens_for_model]\n",
    "\n",
    "dataset_combined = positive_dataset + negative_dataset\n",
    "random.shuffle(dataset_combined)\n",
    "\n",
    "train_data = dataset_combined[:7000]\n",
    "test_data = dataset_combined[7000:]\n"
   ]
  },
  {
   "cell_type": "code",
   "execution_count": 19,
   "id": "ae13de21",
   "metadata": {},
   "outputs": [
    {
     "name": "stdout",
     "output_type": "stream",
     "text": [
      "Accuracy is: 0.7049221075753634\n",
      "Most Informative Features\n",
      "                     vip = True           Positi : Negati =     18.0 : 1.0\n",
      "                 welcome = True           Positi : Negati =     13.4 : 1.0\n",
      "                     sad = True           Negati : Positi =     12.3 : 1.0\n",
      "                    hurt = True           Negati : Positi =     10.9 : 1.0\n",
      "                   sadly = True           Negati : Positi =     10.9 : 1.0\n",
      "                   upset = True           Negati : Positi =     10.9 : 1.0\n",
      "               wonderful = True           Positi : Negati =     10.5 : 1.0\n",
      "                     gah = True           Negati : Positi =     10.0 : 1.0\n",
      "                    grrr = True           Negati : Positi =     10.0 : 1.0\n",
      "                    poor = True           Negati : Positi =     10.0 : 1.0\n"
     ]
    }
   ],
   "source": [
    "from nltk import classify\n",
    "from nltk import NaiveBayesClassifier\n",
    "\n",
    "classifier = NaiveBayesClassifier.train(train_data)\n",
    "\n",
    "print(\"Accuracy is:\", classify.accuracy(classifier, test_data))\n",
    "classifier.show_most_informative_features(10)\n"
   ]
  },
  {
   "cell_type": "code",
   "execution_count": 20,
   "id": "b60a7a5c",
   "metadata": {},
   "outputs": [
    {
     "name": "stdout",
     "output_type": "stream",
     "text": [
      "bad : Negative\n",
      "service is bad : Negative\n",
      "service is really bad : Negative\n",
      "service is so terrible : Negative\n",
      "great service : Positive\n",
      "they stole my money : Negative\n"
     ]
    }
   ],
   "source": [
    "def get_sentiment(text):\n",
    "    tokens = word_tokenize(text)\n",
    "    cleaned_tokens = process_tokens(tokens)\n",
    "    return classifier.classify(get_token_dict(cleaned_tokens))\n",
    "\n",
    "# Приклади\n",
    "texts = [\"bad\", \"service is bad\", \"service is really bad\", \"service is so terrible\", \"great service\", \"they stole my money\"]\n",
    "for t in texts:\n",
    "    print(f\"{t} : {get_sentiment(t)}\")\n"
   ]
  },
  {
   "cell_type": "markdown",
   "id": "e14a1488",
   "metadata": {},
   "source": [
    "## Task 2. \n",
    "Try to use Logistic Regression classifier instead and compare the results with Naive Bayes."
   ]
  },
  {
   "cell_type": "code",
   "execution_count": 21,
   "id": "afae4a10",
   "metadata": {},
   "outputs": [],
   "source": [
    "from sklearn.feature_extraction import DictVectorizer\n",
    "from sklearn.linear_model import LogisticRegression\n",
    "from sklearn.metrics import accuracy_score, classification_report\n",
    "\n",
    "# Витягуємо ознаки (X) та мітки (y)\n",
    "X_dict = [x[0] for x in dataset_combined]\n",
    "y = [x[1] for x in dataset_combined]\n",
    "\n",
    "# Векторизація ознак\n",
    "vectorizer = DictVectorizer(sparse=True)\n",
    "X = vectorizer.fit_transform(X_dict)\n",
    "\n",
    "# Розбиваємо на train/test\n",
    "X_train = X[:7000]\n",
    "X_test = X[7000:]\n",
    "y_train = y[:7000]\n",
    "y_test = y[7000:]\n"
   ]
  },
  {
   "cell_type": "code",
   "execution_count": 22,
   "id": "0472862f",
   "metadata": {},
   "outputs": [
    {
     "name": "stdout",
     "output_type": "stream",
     "text": [
      "Logistic Regression Accuracy: 0.7319922541113905\n",
      "              precision    recall  f1-score   support\n",
      "\n",
      "    Negative       0.72      0.60      0.65     72980\n",
      "    Positive       0.74      0.83      0.78    100015\n",
      "\n",
      "    accuracy                           0.73    172995\n",
      "   macro avg       0.73      0.71      0.72    172995\n",
      "weighted avg       0.73      0.73      0.73    172995\n",
      "\n"
     ]
    }
   ],
   "source": [
    "# Створення та навчання моделі\n",
    "log_reg = LogisticRegression(max_iter=1000)\n",
    "log_reg.fit(X_train, y_train)\n",
    "\n",
    "# Оцінка точності\n",
    "y_pred = log_reg.predict(X_test)\n",
    "print(\"Logistic Regression Accuracy:\", accuracy_score(y_test, y_pred))\n",
    "print(classification_report(y_test, y_pred))\n"
   ]
  },
  {
   "cell_type": "code",
   "execution_count": 23,
   "id": "58ee201d",
   "metadata": {},
   "outputs": [
    {
     "name": "stdout",
     "output_type": "stream",
     "text": [
      "Naive Bayes Accuracy: 0.7049221075753634\n"
     ]
    }
   ],
   "source": [
    "print(\"Naive Bayes Accuracy:\", classify.accuracy(classifier, test_data))\n"
   ]
  },
  {
   "cell_type": "code",
   "execution_count": 24,
   "id": "493862eb",
   "metadata": {},
   "outputs": [
    {
     "name": "stdout",
     "output_type": "stream",
     "text": [
      "bad : Negative\n",
      "service is bad : Negative\n",
      "service is really bad : Negative\n",
      "service is so terrible : Negative\n",
      "great service : Positive\n",
      "they stole my money : Negative\n"
     ]
    }
   ],
   "source": [
    "def get_sentiment_logreg(text):\n",
    "    tokens = word_tokenize(text)\n",
    "    cleaned_tokens = process_tokens(tokens)\n",
    "    token_dict = get_token_dict(cleaned_tokens)\n",
    "    X_new = vectorizer.transform([token_dict])\n",
    "    return log_reg.predict(X_new)[0]\n",
    "\n",
    "texts = [\"bad\", \"service is bad\", \"service is really bad\", \"service is so terrible\", \"great service\", \"they stole my money\"]\n",
    "for t in texts:\n",
    "    print(f\"{t} : {get_sentiment_logreg(t)}\")\n"
   ]
  }
 ],
 "metadata": {
  "kernelspec": {
   "display_name": "Python 3",
   "language": "python",
   "name": "python3"
  },
  "language_info": {
   "codemirror_mode": {
    "name": "ipython",
    "version": 3
   },
   "file_extension": ".py",
   "mimetype": "text/x-python",
   "name": "python",
   "nbconvert_exporter": "python",
   "pygments_lexer": "ipython3",
   "version": "3.13.2"
  }
 },
 "nbformat": 4,
 "nbformat_minor": 5
}
