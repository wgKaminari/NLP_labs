{
 "cells": [
  {
   "cell_type": "code",
   "execution_count": 1,
   "id": "4a0fb90d",
   "metadata": {},
   "outputs": [
    {
     "name": "stdout",
     "output_type": "stream",
     "text": [
      "Collecting gensim\n",
      "  Using cached gensim-4.3.3.tar.gz (23.3 MB)\n",
      "  Installing build dependencies: started\n",
      "  Installing build dependencies: finished with status 'done'\n",
      "  Getting requirements to build wheel: started\n",
      "  Getting requirements to build wheel: finished with status 'done'\n",
      "  Preparing metadata (pyproject.toml): started\n",
      "  Preparing metadata (pyproject.toml): finished with status 'done'\n",
      "Collecting numpy<2.0,>=1.18.5 (from gensim)\n",
      "  Using cached numpy-1.26.4.tar.gz (15.8 MB)\n",
      "  Installing build dependencies: started\n",
      "  Installing build dependencies: finished with status 'done'\n",
      "  Getting requirements to build wheel: started\n",
      "  Getting requirements to build wheel: finished with status 'done'\n",
      "  Installing backend dependencies: started\n",
      "  Installing backend dependencies: finished with status 'done'\n",
      "  Preparing metadata (pyproject.toml): started\n",
      "  Preparing metadata (pyproject.toml): finished with status 'error'\n",
      "Note: you may need to restart the kernel to use updated packages.\n"
     ]
    },
    {
     "name": "stderr",
     "output_type": "stream",
     "text": [
      "  error: subprocess-exited-with-error\n",
      "  \n",
      "  × Preparing metadata (pyproject.toml) did not run successfully.\n",
      "  │ exit code: 1\n",
      "  ╰─> [21 lines of output]\n",
      "      + c:\\Users\\wgkam\\AppData\\Local\\Programs\\Python\\Python313\\python.exe C:\\Users\\wgkam\\AppData\\Local\\Temp\\pip-install-b09ilktg\\numpy_606c36a9465d443dbb84e98023383be2\\vendored-meson\\meson\\meson.py setup C:\\Users\\wgkam\\AppData\\Local\\Temp\\pip-install-b09ilktg\\numpy_606c36a9465d443dbb84e98023383be2 C:\\Users\\wgkam\\AppData\\Local\\Temp\\pip-install-b09ilktg\\numpy_606c36a9465d443dbb84e98023383be2\\.mesonpy-t643muf5 -Dbuildtype=release -Db_ndebug=if-release -Db_vscrt=md --native-file=C:\\Users\\wgkam\\AppData\\Local\\Temp\\pip-install-b09ilktg\\numpy_606c36a9465d443dbb84e98023383be2\\.mesonpy-t643muf5\\meson-python-native-file.ini\n",
      "      The Meson build system\n",
      "      Version: 1.2.99\n",
      "      Source dir: C:\\Users\\wgkam\\AppData\\Local\\Temp\\pip-install-b09ilktg\\numpy_606c36a9465d443dbb84e98023383be2\n",
      "      Build dir: C:\\Users\\wgkam\\AppData\\Local\\Temp\\pip-install-b09ilktg\\numpy_606c36a9465d443dbb84e98023383be2\\.mesonpy-t643muf5\n",
      "      Build type: native build\n",
      "      Project name: NumPy\n",
      "      Project version: 1.26.4\n",
      "      WARNING: Failed to activate VS environment: Could not find C:\\Program Files (x86)\\Microsoft Visual Studio\\Installer\\vswhere.exe\n",
      "      \n",
      "      ..\\meson.build:1:0: ERROR: Unknown compiler(s): [['icl'], ['cl'], ['cc'], ['gcc'], ['clang'], ['clang-cl'], ['pgcc']]\n",
      "      The following exception(s) were encountered:\n",
      "      Running `icl \"\"` gave \"[WinError 2] The system cannot find the file specified\"\n",
      "      Running `cl /?` gave \"[WinError 2] The system cannot find the file specified\"\n",
      "      Running `cc --version` gave \"[WinError 2] The system cannot find the file specified\"\n",
      "      Running `gcc --version` gave \"[WinError 2] The system cannot find the file specified\"\n",
      "      Running `clang --version` gave \"[WinError 2] The system cannot find the file specified\"\n",
      "      Running `clang-cl /?` gave \"[WinError 2] The system cannot find the file specified\"\n",
      "      Running `pgcc --version` gave \"[WinError 2] The system cannot find the file specified\"\n",
      "      \n",
      "      A full log can be found at C:\\Users\\wgkam\\AppData\\Local\\Temp\\pip-install-b09ilktg\\numpy_606c36a9465d443dbb84e98023383be2\\.mesonpy-t643muf5\\meson-logs\\meson-log.txt\n",
      "      [end of output]\n",
      "  \n",
      "  note: This error originates from a subprocess, and is likely not a problem with pip.\n",
      "error: metadata-generation-failed\n",
      "\n",
      "× Encountered error while generating package metadata.\n",
      "╰─> See above for output.\n",
      "\n",
      "note: This is an issue with the package mentioned above, not pip.\n",
      "hint: See above for details.\n"
     ]
    }
   ],
   "source": [
    "pip install gensim"
   ]
  },
  {
   "cell_type": "code",
   "execution_count": 2,
   "id": "c80c2218",
   "metadata": {},
   "outputs": [
    {
     "name": "stdout",
     "output_type": "stream",
     "text": [
      "Collecting pot\n",
      "  Using cached pot-0.9.5.tar.gz (440 kB)\n",
      "  Installing build dependencies: started\n",
      "  Installing build dependencies: finished with status 'done'\n",
      "  Getting requirements to build wheel: started\n",
      "  Getting requirements to build wheel: finished with status 'error'\n",
      "Note: you may need to restart the kernel to use updated packages.\n"
     ]
    },
    {
     "name": "stderr",
     "output_type": "stream",
     "text": [
      "  error: subprocess-exited-with-error\n",
      "  \n",
      "  × Getting requirements to build wheel did not run successfully.\n",
      "  │ exit code: 1\n",
      "  ╰─> [43 lines of output]\n",
      "      Traceback (most recent call last):\n",
      "        File \u001b[35m\"c:\\Users\\wgkam\\AppData\\Local\\Programs\\Python\\Python313\\Lib\\site-packages\\pip\\_vendor\\pyproject_hooks\\_in_process\\_in_process.py\"\u001b[0m, line \u001b[35m389\u001b[0m, in \u001b[35m<module>\u001b[0m\n",
      "          \u001b[31mmain\u001b[0m\u001b[1;31m()\u001b[0m\n",
      "          \u001b[31m~~~~\u001b[0m\u001b[1;31m^^\u001b[0m\n",
      "        File \u001b[35m\"c:\\Users\\wgkam\\AppData\\Local\\Programs\\Python\\Python313\\Lib\\site-packages\\pip\\_vendor\\pyproject_hooks\\_in_process\\_in_process.py\"\u001b[0m, line \u001b[35m373\u001b[0m, in \u001b[35mmain\u001b[0m\n",
      "          json_out[\"return_val\"] = \u001b[31mhook\u001b[0m\u001b[1;31m(**hook_input[\"kwargs\"])\u001b[0m\n",
      "                                   \u001b[31m~~~~\u001b[0m\u001b[1;31m^^^^^^^^^^^^^^^^^^^^^^^^\u001b[0m\n",
      "        File \u001b[35m\"c:\\Users\\wgkam\\AppData\\Local\\Programs\\Python\\Python313\\Lib\\site-packages\\pip\\_vendor\\pyproject_hooks\\_in_process\\_in_process.py\"\u001b[0m, line \u001b[35m143\u001b[0m, in \u001b[35mget_requires_for_build_wheel\u001b[0m\n",
      "          return hook(config_settings)\n",
      "        File \u001b[35m\"C:\\Users\\wgkam\\AppData\\Local\\Temp\\pip-build-env-fu45b2ct\\overlay\\Lib\\site-packages\\setuptools\\build_meta.py\"\u001b[0m, line \u001b[35m334\u001b[0m, in \u001b[35mget_requires_for_build_wheel\u001b[0m\n",
      "          return \u001b[31mself._get_build_requires\u001b[0m\u001b[1;31m(config_settings, requirements=[])\u001b[0m\n",
      "                 \u001b[31m~~~~~~~~~~~~~~~~~~~~~~~~\u001b[0m\u001b[1;31m^^^^^^^^^^^^^^^^^^^^^^^^^^^^^^^^^^\u001b[0m\n",
      "        File \u001b[35m\"C:\\Users\\wgkam\\AppData\\Local\\Temp\\pip-build-env-fu45b2ct\\overlay\\Lib\\site-packages\\setuptools\\build_meta.py\"\u001b[0m, line \u001b[35m304\u001b[0m, in \u001b[35m_get_build_requires\u001b[0m\n",
      "          \u001b[31mself.run_setup\u001b[0m\u001b[1;31m()\u001b[0m\n",
      "          \u001b[31m~~~~~~~~~~~~~~\u001b[0m\u001b[1;31m^^\u001b[0m\n",
      "        File \u001b[35m\"C:\\Users\\wgkam\\AppData\\Local\\Temp\\pip-build-env-fu45b2ct\\overlay\\Lib\\site-packages\\setuptools\\build_meta.py\"\u001b[0m, line \u001b[35m320\u001b[0m, in \u001b[35mrun_setup\u001b[0m\n",
      "          \u001b[31mexec\u001b[0m\u001b[1;31m(code, locals())\u001b[0m\n",
      "          \u001b[31m~~~~\u001b[0m\u001b[1;31m^^^^^^^^^^^^^^^^\u001b[0m\n",
      "        File \u001b[35m\"<string>\"\u001b[0m, line \u001b[35m40\u001b[0m, in \u001b[35m<module>\u001b[0m\n",
      "        File \u001b[35m\"C:\\Users\\wgkam\\AppData\\Local\\Temp\\pip-install-m9i94bi4\\pot_8e533bd490f648b8aafeab5d11d529f2\\ot\\helpers\\openmp_helpers.py\"\u001b[0m, line \u001b[35m67\u001b[0m, in \u001b[35mcheck_openmp_support\u001b[0m\n",
      "          output, compile_flags = \u001b[31mcompile_test_program\u001b[0m\u001b[1;31m(\u001b[0m\n",
      "                                  \u001b[31m~~~~~~~~~~~~~~~~~~~~\u001b[0m\u001b[1;31m^\u001b[0m\n",
      "              \u001b[1;31mcode, extra_preargs=extra_preargs, extra_postargs=extra_postargs\u001b[0m\n",
      "              \u001b[1;31m^^^^^^^^^^^^^^^^^^^^^^^^^^^^^^^^^^^^^^^^^^^^^^^^^^^^^^^^^^^^^^^^\u001b[0m\n",
      "          \u001b[1;31m)\u001b[0m\n",
      "          \u001b[1;31m^\u001b[0m\n",
      "        File \u001b[35m\"C:\\Users\\wgkam\\AppData\\Local\\Temp\\pip-install-m9i94bi4\\pot_8e533bd490f648b8aafeab5d11d529f2\\ot\\helpers\\pre_build_helpers.py\"\u001b[0m, line \u001b[35m42\u001b[0m, in \u001b[35mcompile_test_program\u001b[0m\n",
      "          \u001b[31mccompiler.compile\u001b[0m\u001b[1;31m(\u001b[0m\n",
      "          \u001b[31m~~~~~~~~~~~~~~~~~\u001b[0m\u001b[1;31m^\u001b[0m\n",
      "              \u001b[1;31m[\"test_program.c\"], output_dir=\"objects\", extra_postargs=extra_postargs\u001b[0m\n",
      "              \u001b[1;31m^^^^^^^^^^^^^^^^^^^^^^^^^^^^^^^^^^^^^^^^^^^^^^^^^^^^^^^^^^^^^^^^^^^^^^^\u001b[0m\n",
      "          \u001b[1;31m)\u001b[0m\n",
      "          \u001b[1;31m^\u001b[0m\n",
      "        File \u001b[35m\"C:\\Users\\wgkam\\AppData\\Local\\Temp\\pip-build-env-fu45b2ct\\overlay\\Lib\\site-packages\\setuptools\\_distutils\\compilers\\C\\msvc.py\"\u001b[0m, line \u001b[35m384\u001b[0m, in \u001b[35mcompile\u001b[0m\n",
      "          \u001b[31mself.initialize\u001b[0m\u001b[1;31m()\u001b[0m\n",
      "          \u001b[31m~~~~~~~~~~~~~~~\u001b[0m\u001b[1;31m^^\u001b[0m\n",
      "        File \u001b[35m\"C:\\Users\\wgkam\\AppData\\Local\\Temp\\pip-build-env-fu45b2ct\\overlay\\Lib\\site-packages\\setuptools\\_distutils\\compilers\\C\\msvc.py\"\u001b[0m, line \u001b[35m294\u001b[0m, in \u001b[35minitialize\u001b[0m\n",
      "          vc_env = _get_vc_env(plat_spec)\n",
      "        File \u001b[35m\"C:\\Users\\wgkam\\AppData\\Local\\Temp\\pip-build-env-fu45b2ct\\overlay\\Lib\\site-packages\\setuptools\\_distutils\\compilers\\C\\msvc.py\"\u001b[0m, line \u001b[35m155\u001b[0m, in \u001b[35m_get_vc_env\u001b[0m\n",
      "          raise DistutilsPlatformError(\n",
      "          ...<3 lines>...\n",
      "          )\n",
      "      \u001b[1;35mdistutils.errors.DistutilsPlatformError\u001b[0m: \u001b[35mMicrosoft Visual C++ 14.0 or greater is required. Get it with \"Microsoft C++ Build Tools\": https://visualstudio.microsoft.com/visual-cpp-build-tools/\u001b[0m\n",
      "      [end of output]\n",
      "  \n",
      "  note: This error originates from a subprocess, and is likely not a problem with pip.\n",
      "error: subprocess-exited-with-error\n",
      "\n",
      "× Getting requirements to build wheel did not run successfully.\n",
      "│ exit code: 1\n",
      "╰─> See above for output.\n",
      "\n",
      "note: This error originates from a subprocess, and is likely not a problem with pip.\n"
     ]
    }
   ],
   "source": [
    "pip install pot"
   ]
  },
  {
   "cell_type": "code",
   "execution_count": 4,
   "id": "8ab0e5e9",
   "metadata": {},
   "outputs": [],
   "source": [
    "from gensim.test.utils import common_texts\n",
    "from gensim.models import Word2Vec"
   ]
  },
  {
   "cell_type": "code",
   "execution_count": 5,
   "id": "19badd98",
   "metadata": {},
   "outputs": [
    {
     "data": {
      "text/plain": [
       "[['human', 'interface', 'computer'],\n",
       " ['survey', 'user', 'computer', 'system', 'response', 'time'],\n",
       " ['eps', 'user', 'interface', 'system'],\n",
       " ['system', 'human', 'system', 'eps'],\n",
       " ['user', 'response', 'time'],\n",
       " ['trees'],\n",
       " ['graph', 'trees'],\n",
       " ['graph', 'minors', 'trees'],\n",
       " ['graph', 'minors', 'survey']]"
      ]
     },
     "execution_count": 5,
     "metadata": {},
     "output_type": "execute_result"
    }
   ],
   "source": [
    "common_texts"
   ]
  },
  {
   "cell_type": "code",
   "execution_count": 6,
   "id": "1c2df478",
   "metadata": {},
   "outputs": [],
   "source": [
    "model = Word2Vec(sentences=common_texts, vector_size=100, window=5, min_count=1, workers=4)"
   ]
  },
  {
   "cell_type": "code",
   "execution_count": 7,
   "id": "cad2b234",
   "metadata": {},
   "outputs": [
    {
     "data": {
      "text/plain": [
       "<gensim.models.keyedvectors.KeyedVectors at 0x25a511f3310>"
      ]
     },
     "execution_count": 7,
     "metadata": {},
     "output_type": "execute_result"
    }
   ],
   "source": [
    "model.wv"
   ]
  },
  {
   "cell_type": "code",
   "execution_count": 8,
   "id": "a040014b",
   "metadata": {},
   "outputs": [],
   "source": [
    "import gensim.downloader\n",
    "\n",
    "models = gensim.downloader.info()['models']"
   ]
  },
  {
   "cell_type": "code",
   "execution_count": 9,
   "id": "7349ca0c",
   "metadata": {},
   "outputs": [
    {
     "name": "stdout",
     "output_type": "stream",
     "text": [
      "[==================================================] 100.0% 66.0/66.0MB downloaded\n"
     ]
    }
   ],
   "source": [
    "glove_vectors = gensim.downloader.load('glove-wiki-gigaword-50')"
   ]
  },
  {
   "cell_type": "code",
   "execution_count": 10,
   "id": "a149d63d",
   "metadata": {},
   "outputs": [
    {
     "data": {
      "text/plain": [
       "[('survey', 0.1991206258535385),\n",
       " ('human', 0.17272792756557465),\n",
       " ('minors', 0.17018885910511017),\n",
       " ('time', 0.145950585603714),\n",
       " ('eps', 0.06408977508544922),\n",
       " ('response', -0.002765784738585353),\n",
       " ('user', -0.013535077683627605),\n",
       " ('graph', -0.023671654984354973),\n",
       " ('computer', -0.032843153923749924),\n",
       " ('system', -0.05234673619270325)]"
      ]
     },
     "execution_count": 10,
     "metadata": {},
     "output_type": "execute_result"
    }
   ],
   "source": [
    "model.wv.most_similar('trees', topn=10)"
   ]
  },
  {
   "cell_type": "code",
   "execution_count": 11,
   "id": "4986f308",
   "metadata": {},
   "outputs": [
    {
     "data": {
      "text/plain": [
       "-0.02367166"
      ]
     },
     "execution_count": 11,
     "metadata": {},
     "output_type": "execute_result"
    }
   ],
   "source": [
    "model.wv.similarity('trees', 'graph')"
   ]
  },
  {
   "cell_type": "code",
   "execution_count": 12,
   "id": "1e133cd2",
   "metadata": {},
   "outputs": [
    {
     "data": {
      "text/plain": [
       "'minors'"
      ]
     },
     "execution_count": 12,
     "metadata": {},
     "output_type": "execute_result"
    }
   ],
   "source": [
    "model.wv.doesnt_match(['minors', 'human', 'interface'])"
   ]
  },
  {
   "cell_type": "code",
   "execution_count": 13,
   "id": "a8ef0c84",
   "metadata": {},
   "outputs": [
    {
     "data": {
      "text/plain": [
       "1.0236716605722904"
      ]
     },
     "execution_count": 13,
     "metadata": {},
     "output_type": "execute_result"
    }
   ],
   "source": [
    "model.wv.distance('trees', 'graph')"
   ]
  },
  {
   "cell_type": "code",
   "execution_count": 17,
   "id": "75998e98",
   "metadata": {},
   "outputs": [
    {
     "data": {
      "text/plain": [
       "1.4308540422347924"
      ]
     },
     "execution_count": 17,
     "metadata": {},
     "output_type": "execute_result"
    }
   ],
   "source": [
    "model.wv.wmdistance(['trees'], ['graph'])"
   ]
  },
  {
   "cell_type": "code",
   "execution_count": 16,
   "id": "b60c5654",
   "metadata": {
    "collapsed": true
   },
   "outputs": [
    {
     "name": "stdout",
     "output_type": "stream",
     "text": [
      "Defaulting to user installation because normal site-packages is not writeable\n",
      "Collecting pyemd\n",
      "  Downloading pyemd-1.0.0-cp39-cp39-win_amd64.whl (148 kB)\n",
      "     -------------------------------------- 148.7/148.7 kB 2.2 MB/s eta 0:00:00\n",
      "Requirement already satisfied: numpy>=1.9.0 in c:\\users\\viacheslav.snoz\\appdata\\roaming\\python\\python39\\site-packages (from pyemd) (1.24.2)\n",
      "Installing collected packages: pyemd\n",
      "Successfully installed pyemd-1.0.0\n",
      "Note: you may need to restart the kernel to use updated packages.\n"
     ]
    },
    {
     "name": "stderr",
     "output_type": "stream",
     "text": [
      "WARNING: Error parsing requirements for retrying: [Errno 13] Permission denied: 'c:\\\\programdata\\\\anaconda3\\\\lib\\\\site-packages\\\\retrying-1.3.3.dist-info\\\\METADATA'\n",
      "WARNING: Error parsing requirements for flask-compress: [Errno 13] Permission denied: 'c:\\\\programdata\\\\anaconda3\\\\lib\\\\site-packages\\\\Flask_Compress-1.13.dist-info\\\\METADATA'\n",
      "WARNING: Error parsing requirements for dash: [Errno 13] Permission denied: 'c:\\\\programdata\\\\anaconda3\\\\lib\\\\site-packages\\\\dash-2.14.2.dist-info\\\\METADATA'\n",
      "WARNING: Error parsing requirements for brotli: [Errno 13] Permission denied: 'c:\\\\programdata\\\\anaconda3\\\\lib\\\\site-packages\\\\Brotli-1.0.9.dist-info\\\\METADATA'\n",
      "WARNING: Error parsing requirements for ansi2html: [Errno 13] Permission denied: 'c:\\\\programdata\\\\anaconda3\\\\lib\\\\site-packages\\\\ansi2html-1.9.1.dist-info\\\\METADATA'\n"
     ]
    }
   ],
   "source": [
    "pip install pyemd"
   ]
  },
  {
   "cell_type": "code",
   "execution_count": 25,
   "id": "26435909",
   "metadata": {
    "scrolled": true
   },
   "outputs": [
    {
     "name": "stdout",
     "output_type": "stream",
     "text": [
      "['quran  read quran  seek refug god satan outcast  author believ trust lord  author follow  associ other  – vers 1698100', 'give good news believ righteou deed  garden beneath river flow  whenev provid fruit therefrom susten  say  provid  given like  pure spous therein  abid therein forev ', 'deni god  dead gave life  put death  bring life  return ']\n"
     ]
    },
    {
     "name": "stderr",
     "output_type": "stream",
     "text": [
      "[nltk_data] Downloading package punkt to\n",
      "[nltk_data]     C:\\Users\\Viacheslav.Snoz\\AppData\\Roaming\\nltk_data...\n",
      "[nltk_data]   Package punkt is already up-to-date!\n",
      "[nltk_data] Downloading package stopwords to\n",
      "[nltk_data]     C:\\Users\\Viacheslav.Snoz\\AppData\\Roaming\\nltk_data...\n",
      "[nltk_data]   Package stopwords is already up-to-date!\n"
     ]
    }
   ],
   "source": [
    "import nltk\n",
    "import string\n",
    "from nltk.corpus import stopwords\n",
    "from nltk.tokenize import word_tokenize\n",
    "from nltk.stem import PorterStemmer\n",
    " \n",
    "# Завантаження необхідних ресурсів\n",
    "nltk.download('punkt')\n",
    "nltk.download('stopwords')\n",
    " \n",
    "# Початковий текст\n",
    "texts = [\n",
    "    \"From the Quran: When you read the Quran, seek refuge with God from Satan the outcast. \"\n",
    "    \"He has no authority over those who be­lieve and trust in their Lord. \"\n",
    "    \"His authority is only over those who follow him, and those who associate others with Him. – Verses 16:98-100 \",\n",
    "    \n",
    "    \"And give good news to those who be­lieve and do righteous deeds; \"\n",
    "    \"that they will have gardens beneath which rivers flow. \"\n",
    "    \"Whenever they are provided with fruit therefrom as sustenance, they will say, \"\n",
    "    \"This is what we were provided with be­fore, and they will be given the like of it. \"\n",
    "    \"And they will have pure spouses therein, and they will abide therein forever.\",\n",
    "    \n",
    "    \"How can you deny God, when you were dead and He gave you life, then He will put you to death, \"\n",
    "    \"then He will bring you to life, then to Him you will be returned?\"\n",
    "]\n",
    " \n",
    "# Ініціалізація об'єктів\n",
    "stop_words = set(stopwords.words('english'))\n",
    "ps = PorterStemmer()\n",
    " \n",
    "tokenized_texts = []\n",
    " \n",
    "for text in texts:\n",
    "    # Видалення спеціальних символів та дефісів Unicode\n",
    "    text = text.encode(\"utf-8\", \"ignore\").decode(\"utf-8\")\n",
    "    text = text.replace(\"­\", \"\")  # Видалення soft hyphen\n",
    " \n",
    "    # Токенізація\n",
    "    words = word_tokenize(text)\n",
    " \n",
    "    # Нормалізація (приведення до нижнього регістру, видалення пунктуації, стоп-слів та стемінг)\n",
    "    normalized_words = [\n",
    "        ps.stem(word.lower().translate(str.maketrans(\"\", \"\", string.punctuation)))\n",
    "        for word in words if word.lower() not in stop_words and word.strip()\n",
    "    ]\n",
    " \n",
    "    # Об'єднання оброблених слів у текст\n",
    "    normalized_text = \" \".join(normalized_words)\n",
    "    tokenized_texts.append(normalized_text)\n",
    " \n",
    "# Вивід результату\n",
    "print(tokenized_texts)"
   ]
  },
  {
   "cell_type": "code",
   "execution_count": 26,
   "id": "ebd528e7",
   "metadata": {},
   "outputs": [],
   "source": [
    "# Step 2: Organize and Save Corpus\n",
    "corpus_dir = 'my_custom_corpus'\n",
    "if not os.path.exists(corpus_dir):\n",
    "    os.makedirs(corpus_dir)\n",
    "\n",
    "# Write tokenized texts to separate files in the corpus directory\n",
    "for i, text in enumerate(tokenized_texts):\n",
    "    with open(os.path.join(corpus_dir, f'doc{i + 1}.txt'), 'w', encoding='utf-8') as file:\n",
    "        file.write(text)\n"
   ]
  },
  {
   "cell_type": "code",
   "execution_count": 27,
   "id": "30fa8548",
   "metadata": {},
   "outputs": [
    {
     "name": "stdout",
     "output_type": "stream",
     "text": [
      "Words in the corpus:\n",
      "['quran', 'read', 'quran', 'seek', 'refug', 'god', ...]\n"
     ]
    }
   ],
   "source": [
    "# Step 3: Create an NLTK Corpus Reader\n",
    "corpus = PlaintextCorpusReader(corpus_dir, '.*\\.txt')\n",
    "\n",
    "print(\"Words in the corpus:\")\n",
    "print(corpus.words())\n"
   ]
  },
  {
   "cell_type": "code",
   "execution_count": 29,
   "id": "d94dbbf0",
   "metadata": {},
   "outputs": [],
   "source": [
    "import pandas as pd"
   ]
  },
  {
   "cell_type": "code",
   "execution_count": 61,
   "id": "6cee0172",
   "metadata": {},
   "outputs": [
    {
     "data": {
      "text/plain": [
       "[['quran', 'read', 'quran', 'seek', 'refug', 'god', 'satan', 'outcast', 'author', 'believ', 'trust', 'lord', 'author', 'follow', 'associ', 'other', '–', 'vers', '1698100'], ['give', 'good', 'news', 'believ', 'righteou', 'deed', 'garden', 'beneath', 'river', 'flow', 'whenev', 'provid', 'fruit', 'therefrom', 'susten', 'say', 'provid', 'given', 'like', 'pure', 'spous', 'therein', 'abid', 'therein', 'forev'], ...]"
      ]
     },
     "execution_count": 61,
     "metadata": {},
     "output_type": "execute_result"
    }
   ],
   "source": [
    "corpus.sents()"
   ]
  },
  {
   "cell_type": "code",
   "execution_count": 62,
   "id": "4017ee1a",
   "metadata": {},
   "outputs": [],
   "source": [
    "model2 = Word2Vec(sentences=corpus.sents(), vector_size=100, window=5, min_count=1, workers=4)"
   ]
  },
  {
   "cell_type": "code",
   "execution_count": 63,
   "id": "670f52c5",
   "metadata": {},
   "outputs": [
    {
     "data": {
      "text/plain": [
       "['quran', 'read']"
      ]
     },
     "execution_count": 63,
     "metadata": {},
     "output_type": "execute_result"
    }
   ],
   "source": [
    "corpus.words()[:2]"
   ]
  },
  {
   "cell_type": "code",
   "execution_count": 64,
   "id": "42d20704",
   "metadata": {},
   "outputs": [
    {
     "data": {
      "text/plain": [
       "<gensim.models.keyedvectors.KeyedVectors at 0x25a5de876a0>"
      ]
     },
     "execution_count": 64,
     "metadata": {},
     "output_type": "execute_result"
    }
   ],
   "source": [
    "model2.wv"
   ]
  },
  {
   "cell_type": "code",
   "execution_count": 65,
   "id": "317a50e9",
   "metadata": {},
   "outputs": [],
   "source": [
    "models2 = gensim.downloader.info()['models']"
   ]
  },
  {
   "cell_type": "code",
   "execution_count": 83,
   "id": "5b09f69e",
   "metadata": {},
   "outputs": [
    {
     "data": {
      "text/plain": [
       "[('therefrom', 0.21231652796268463),\n",
       " ('news', 0.19915518164634705),\n",
       " ('1698100', 0.17302456498146057),\n",
       " ('put', 0.17119334638118744),\n",
       " ('author', 0.1700374037027359),\n",
       " ('deed', 0.1528489887714386),\n",
       " ('satan', 0.14877870678901672),\n",
       " ('believ', 0.14611877501010895),\n",
       " ('river', 0.1342608779668808),\n",
       " ('bring', 0.12176986783742905),\n",
       " ('like', 0.11222817748785019),\n",
       " ('deni', 0.0812373161315918),\n",
       " ('therein', 0.06432114541530609),\n",
       " ('forev', 0.06429155170917511),\n",
       " ('pure', 0.058468032628297806),\n",
       " ('garden', 0.053121089935302734),\n",
       " ('flow', 0.05134144052863121),\n",
       " ('vers', 0.046595413237810135),\n",
       " ('beneath', 0.040414586663246155),\n",
       " ('spous', 0.02359829656779766),\n",
       " ('abid', 0.018519744277000427),\n",
       " ('return', 0.013975282199680805),\n",
       " ('lord', 0.0016946179093793035),\n",
       " ('associ', -0.002355010714381933),\n",
       " ('gave', -0.007035036105662584),\n",
       " ('refug', -0.007498474791646004),\n",
       " ('provid', -0.012867622077465057),\n",
       " ('follow', -0.016941498965024948),\n",
       " ('trust', -0.019531577825546265),\n",
       " ('life', -0.02343594841659069),\n",
       " ('good', -0.032813336700201035),\n",
       " ('death', -0.03450440242886543),\n",
       " ('outcast', -0.03503049537539482),\n",
       " ('quran', -0.05197468772530556),\n",
       " ('righteou', -0.08457213640213013),\n",
       " ('given', -0.08639150112867355),\n",
       " ('give', -0.10193785279989243),\n",
       " ('fruit', -0.10552576184272766),\n",
       " ('susten', -0.10712086409330368),\n",
       " ('dead', -0.11181976646184921),\n",
       " ('–', -0.13528163731098175),\n",
       " ('say', -0.13963887095451355),\n",
       " ('whenev', -0.15307879447937012),\n",
       " ('other', -0.1851746290922165),\n",
       " ('read', -0.21531939506530762),\n",
       " ('seek', -0.22738268971443176)]"
      ]
     },
     "execution_count": 83,
     "metadata": {},
     "output_type": "execute_result"
    }
   ],
   "source": [
    "model2.wv.most_similar('god', topn=100)"
   ]
  },
  {
   "cell_type": "code",
   "execution_count": 67,
   "id": "4f5ddd3b",
   "metadata": {},
   "outputs": [
    {
     "data": {
      "text/plain": [
       "-0.1320781"
      ]
     },
     "execution_count": 67,
     "metadata": {},
     "output_type": "execute_result"
    }
   ],
   "source": [
    "model2.wv.similarity('quran', 'read')"
   ]
  },
  {
   "cell_type": "code",
   "execution_count": 74,
   "id": "22450515",
   "metadata": {},
   "outputs": [
    {
     "data": {
      "text/plain": [
       "1.5047113415867253"
      ]
     },
     "execution_count": 74,
     "metadata": {},
     "output_type": "execute_result"
    }
   ],
   "source": [
    "model2.wv.wmdistance(['quran'], ['read'])"
   ]
  },
  {
   "cell_type": "code",
   "execution_count": 144,
   "id": "6dea16e8",
   "metadata": {},
   "outputs": [
    {
     "name": "stdout",
     "output_type": "stream",
     "text": [
      "Числа: [0.21231652796268463, 0.19915518164634705, 0.17302456498146057, 0.17119334638118744, 0.1700374037027359, 0.1528489887714386, 0.14877870678901672, 0.14611877501010895, 0.1342608779668808, 0.12176986783742905, 0.11222817748785019, 0.0812373161315918, 0.06432114541530609, 0.06429155170917511, 0.058468032628297806, 0.053121089935302734, 0.05134144052863121, 0.046595413237810135, 0.040414586663246155, 0.02359829656779766, 0.018519744277000427, 0.013975282199680805, 0.0016946179093793035, -0.002355010714381933, -0.007035036105662584, -0.007498474791646004, -0.012867622077465057, -0.016941498965024948, -0.019531577825546265, -0.02343594841659069, -0.032813336700201035, -0.03450440242886543, -0.03503049537539482, -0.05197468772530556, -0.08457213640213013, -0.08639150112867355, -0.10193785279989243, -0.10552576184272766, -0.10712086409330368, -0.11181976646184921, -0.13528163731098175, -0.13963887095451355, -0.15307879447937012, -0.1851746290922165, -0.21531939506530762, -0.22738268971443176]\n",
      "Рядки: ['therefrom', 'news', '1698100', 'put', 'author', 'deed', 'satan', 'believ', 'river', 'bring', 'like', 'deni', 'therein', 'forev', 'pure', 'garden', 'flow', 'vers', 'beneath', 'spous', 'abid', 'return', 'lord', 'associ', 'gave', 'refug', 'provid', 'follow', 'trust', 'life', 'good', 'death', 'outcast', 'quran', 'righteou', 'given', 'give', 'fruit', 'susten', 'dead', '–', 'say', 'whenev', 'other', 'read', 'seek']\n"
     ]
    }
   ],
   "source": [
    "data = ['therefrom', 0.21231652796268463,\n",
    "        'news', 0.19915518164634705,\n",
    "        '1698100', 0.17302456498146057,\n",
    "        'put', 0.17119334638118744,\n",
    "        'author', 0.1700374037027359,\n",
    "        'deed', 0.1528489887714386,\n",
    "        'satan', 0.14877870678901672,\n",
    "        'believ', 0.14611877501010895,\n",
    "        'river', 0.1342608779668808,\n",
    "        'bring', 0.12176986783742905,\n",
    "        'like', 0.11222817748785019,\n",
    "        'deni', 0.0812373161315918,\n",
    "        'therein', 0.06432114541530609,\n",
    "        'forev', 0.06429155170917511,\n",
    "        'pure', 0.058468032628297806,\n",
    "        'garden', 0.053121089935302734,\n",
    "        'flow', 0.05134144052863121,\n",
    "        'vers', 0.046595413237810135,\n",
    "        'beneath', 0.040414586663246155,\n",
    "        'spous', 0.02359829656779766,\n",
    "        'abid', 0.018519744277000427,\n",
    "        'return', 0.013975282199680805,\n",
    "        'lord', 0.0016946179093793035,\n",
    "        'associ', -0.002355010714381933,\n",
    "        'gave', -0.007035036105662584,\n",
    "        'refug', -0.007498474791646004,\n",
    "        'provid', -0.012867622077465057,\n",
    "        'follow', -0.016941498965024948,\n",
    "        'trust', -0.019531577825546265,\n",
    "        'life', -0.02343594841659069,\n",
    "        'good', -0.032813336700201035,\n",
    "        'death', -0.03450440242886543,\n",
    "        'outcast', -0.03503049537539482,\n",
    "        'quran', -0.05197468772530556,\n",
    "        'righteou', -0.08457213640213013,\n",
    "        'given', -0.08639150112867355,\n",
    "        'give', -0.10193785279989243,\n",
    "        'fruit', -0.10552576184272766,\n",
    "        'susten', -0.10712086409330368,\n",
    "        'dead', -0.11181976646184921,\n",
    "        '–', -0.13528163731098175,\n",
    "        'say', -0.13963887095451355,\n",
    "        'whenev', -0.15307879447937012,\n",
    "        'other', -0.1851746290922165,\n",
    "        'read', -0.21531939506530762,\n",
    "        'seek', -0.22738268971443176]\n",
    "\n",
    "numbers = []\n",
    "strings = []\n",
    "\n",
    "for item in data:\n",
    "    if isinstance(item, ((float))):\n",
    "        numbers.append(item)\n",
    "    elif isinstance(item, str):\n",
    "        strings.append(item)\n",
    "\n",
    "print(\"Числа:\", numbers)\n",
    "print(\"Рядки:\", strings)"
   ]
  },
  {
   "cell_type": "code",
   "execution_count": 140,
   "id": "0500df3c",
   "metadata": {},
   "outputs": [
    {
     "data": {
      "text/plain": [
       "list"
      ]
     },
     "execution_count": 140,
     "metadata": {},
     "output_type": "execute_result"
    }
   ],
   "source": [
    "type(data)"
   ]
  },
  {
   "cell_type": "code",
   "execution_count": 145,
   "id": "c34c9975",
   "metadata": {},
   "outputs": [],
   "source": [
    "vis = pd.DataFrame({\n",
    "    \"Похибка\": [0.21231652796268463, 0.19915518164634705, 0.17302456498146057, 0.17119334638118744, 0.1700374037027359, 0.1528489887714386, 0.14877870678901672, 0.14611877501010895, 0.1342608779668808, 0.12176986783742905, 0.11222817748785019, 0.0812373161315918, 0.06432114541530609, 0.06429155170917511, 0.058468032628297806, 0.053121089935302734, 0.05134144052863121, 0.046595413237810135, 0.040414586663246155, 0.02359829656779766, 0.018519744277000427, 0.013975282199680805, 0.0016946179093793035, -0.002355010714381933, -0.007035036105662584, -0.007498474791646004, -0.012867622077465057, -0.016941498965024948, -0.019531577825546265, -0.02343594841659069, -0.032813336700201035, -0.03450440242886543, -0.03503049537539482, -0.05197468772530556, -0.08457213640213013, -0.08639150112867355, -0.10193785279989243, -0.10552576184272766, -0.10712086409330368, -0.11181976646184921, -0.13528163731098175, -0.13963887095451355, -0.15307879447937012, -0.1851746290922165, -0.21531939506530762, -0.22738268971443176],\n",
    "    \"Слово\": ['therefrom', 'news', '1698100', 'put', 'author', 'deed', 'satan', 'believ', 'river', 'bring', 'like', 'deni', 'therein', 'forev', 'pure', 'garden', 'flow', 'vers', 'beneath', 'spous', 'abid', 'return', 'lord', 'associ', 'gave', 'refug', 'provid', 'follow', 'trust', 'life', 'good', 'death', 'outcast', 'quran', 'righteou', 'given', 'give', 'fruit', 'susten', 'dead', '–', 'say', 'whenev', 'other', 'read', 'seek']\n",
    "})"
   ]
  },
  {
   "cell_type": "code",
   "execution_count": 146,
   "id": "a94d3946",
   "metadata": {},
   "outputs": [
    {
     "data": {
      "text/plain": [
       "<Axes: >"
      ]
     },
     "execution_count": 146,
     "metadata": {},
     "output_type": "execute_result"
    },
    {
     "data": {
      "image/png": "[encoded data removed]",
      "text/plain": [
       "<Figure size 640x480 with 1 Axes>"
      ]
     },
     "metadata": {},
     "output_type": "display_data"
    }
   ],
   "source": [
    "vis.plot()"
   ]
  },
  {
   "cell_type": "code",
   "execution_count": null,
   "id": "5cec0f94",
   "metadata": {},
   "outputs": [],
   "source": []
  }
 ],
 "metadata": {
  "kernelspec": {
   "display_name": "Python 3",
   "language": "python",
   "name": "python3"
  },
  "language_info": {
   "codemirror_mode": {
    "name": "ipython",
    "version": 3
   },
   "file_extension": ".py",
   "mimetype": "text/x-python",
   "name": "python",
   "nbconvert_exporter": "python",
   "pygments_lexer": "ipython3",
   "version": "3.13.2"
  }
 },
 "nbformat": 4,
 "nbformat_minor": 5
}
