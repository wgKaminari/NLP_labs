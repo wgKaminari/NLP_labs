{
 "cells": [
  {
   "cell_type": "markdown",
   "id": "b518c41b",
   "metadata": {},
   "source": [
    "## Task 0"
   ]
  },
  {
   "cell_type": "code",
   "execution_count": null,
   "id": "e20dd12a",
   "metadata": {},
   "outputs": [],
   "source": [
    "#pip install -r requirements.txt"
   ]
  },
  {
   "cell_type": "code",
   "execution_count": null,
   "id": "937168e3",
   "metadata": {},
   "outputs": [],
   "source": [
    "#pip install nltk\n",
    "#pip install matplotlib"
   ]
  },
  {
   "cell_type": "code",
   "execution_count": 47,
   "id": "4ea58a5b",
   "metadata": {},
   "outputs": [
    {
     "name": "stderr",
     "output_type": "stream",
     "text": [
      "[nltk_data] Downloading collection 'popular'\n",
      "[nltk_data]    | \n",
      "[nltk_data]    | Downloading package cmudict to\n",
      "[nltk_data]    |     C:\\Users\\wgkam\\AppData\\Roaming\\nltk_data...\n",
      "[nltk_data]    |   Package cmudict is already up-to-date!\n",
      "[nltk_data]    | Downloading package gazetteers to\n",
      "[nltk_data]    |     C:\\Users\\wgkam\\AppData\\Roaming\\nltk_data...\n",
      "[nltk_data]    |   Package gazetteers is already up-to-date!\n",
      "[nltk_data]    | Downloading package genesis to\n",
      "[nltk_data]    |     C:\\Users\\wgkam\\AppData\\Roaming\\nltk_data...\n",
      "[nltk_data]    |   Package genesis is already up-to-date!\n",
      "[nltk_data]    | Downloading package gutenberg to\n",
      "[nltk_data]    |     C:\\Users\\wgkam\\AppData\\Roaming\\nltk_data...\n",
      "[nltk_data]    |   Package gutenberg is already up-to-date!\n",
      "[nltk_data]    | Downloading package inaugural to\n",
      "[nltk_data]    |     C:\\Users\\wgkam\\AppData\\Roaming\\nltk_data...\n",
      "[nltk_data]    |   Package inaugural is already up-to-date!\n",
      "[nltk_data]    | Downloading package movie_reviews to\n",
      "[nltk_data]    |     C:\\Users\\wgkam\\AppData\\Roaming\\nltk_data...\n",
      "[nltk_data]    |   Package movie_reviews is already up-to-date!\n",
      "[nltk_data]    | Downloading package names to\n",
      "[nltk_data]    |     C:\\Users\\wgkam\\AppData\\Roaming\\nltk_data...\n",
      "[nltk_data]    |   Package names is already up-to-date!\n",
      "[nltk_data]    | Downloading package shakespeare to\n",
      "[nltk_data]    |     C:\\Users\\wgkam\\AppData\\Roaming\\nltk_data...\n",
      "[nltk_data]    |   Package shakespeare is already up-to-date!\n",
      "[nltk_data]    | Downloading package stopwords to\n",
      "[nltk_data]    |     C:\\Users\\wgkam\\AppData\\Roaming\\nltk_data...\n",
      "[nltk_data]    |   Package stopwords is already up-to-date!\n",
      "[nltk_data]    | Downloading package treebank to\n",
      "[nltk_data]    |     C:\\Users\\wgkam\\AppData\\Roaming\\nltk_data...\n",
      "[nltk_data]    |   Package treebank is already up-to-date!\n",
      "[nltk_data]    | Downloading package twitter_samples to\n",
      "[nltk_data]    |     C:\\Users\\wgkam\\AppData\\Roaming\\nltk_data...\n",
      "[nltk_data]    |   Package twitter_samples is already up-to-date!\n",
      "[nltk_data]    | Downloading package omw to\n",
      "[nltk_data]    |     C:\\Users\\wgkam\\AppData\\Roaming\\nltk_data...\n",
      "[nltk_data]    |   Package omw is already up-to-date!\n",
      "[nltk_data]    | Downloading package omw-1.4 to\n",
      "[nltk_data]    |     C:\\Users\\wgkam\\AppData\\Roaming\\nltk_data...\n",
      "[nltk_data]    |   Package omw-1.4 is already up-to-date!\n",
      "[nltk_data]    | Downloading package wordnet to\n",
      "[nltk_data]    |     C:\\Users\\wgkam\\AppData\\Roaming\\nltk_data...\n",
      "[nltk_data]    |   Package wordnet is already up-to-date!\n",
      "[nltk_data]    | Downloading package wordnet2021 to\n",
      "[nltk_data]    |     C:\\Users\\wgkam\\AppData\\Roaming\\nltk_data...\n",
      "[nltk_data]    |   Package wordnet2021 is already up-to-date!\n",
      "[nltk_data]    | Downloading package wordnet31 to\n",
      "[nltk_data]    |     C:\\Users\\wgkam\\AppData\\Roaming\\nltk_data...\n",
      "[nltk_data]    |   Package wordnet31 is already up-to-date!\n",
      "[nltk_data]    | Downloading package wordnet_ic to\n",
      "[nltk_data]    |     C:\\Users\\wgkam\\AppData\\Roaming\\nltk_data...\n",
      "[nltk_data]    |   Package wordnet_ic is already up-to-date!\n",
      "[nltk_data]    | Downloading package words to\n",
      "[nltk_data]    |     C:\\Users\\wgkam\\AppData\\Roaming\\nltk_data...\n",
      "[nltk_data]    |   Package words is already up-to-date!\n",
      "[nltk_data]    | Downloading package maxent_ne_chunker to\n",
      "[nltk_data]    |     C:\\Users\\wgkam\\AppData\\Roaming\\nltk_data...\n",
      "[nltk_data]    |   Package maxent_ne_chunker is already up-to-date!\n",
      "[nltk_data]    | Downloading package punkt to\n",
      "[nltk_data]    |     C:\\Users\\wgkam\\AppData\\Roaming\\nltk_data...\n",
      "[nltk_data]    |   Package punkt is already up-to-date!\n",
      "[nltk_data]    | Downloading package snowball_data to\n",
      "[nltk_data]    |     C:\\Users\\wgkam\\AppData\\Roaming\\nltk_data...\n",
      "[nltk_data]    |   Package snowball_data is already up-to-date!\n",
      "[nltk_data]    | Downloading package averaged_perceptron_tagger to\n",
      "[nltk_data]    |     C:\\Users\\wgkam\\AppData\\Roaming\\nltk_data...\n",
      "[nltk_data]    |   Package averaged_perceptron_tagger is already up-\n",
      "[nltk_data]    |       to-date!\n",
      "[nltk_data]    | \n",
      "[nltk_data]  Done downloading collection popular\n",
      "[nltk_data] Downloading package punkt_tab to\n",
      "[nltk_data]     C:\\Users\\wgkam\\AppData\\Roaming\\nltk_data...\n",
      "[nltk_data]   Unzipping tokenizers\\punkt_tab.zip.\n"
     ]
    },
    {
     "data": {
      "text/plain": [
       "True"
      ]
     },
     "execution_count": 47,
     "metadata": {},
     "output_type": "execute_result"
    }
   ],
   "source": [
    "import nltk; \n",
    "nltk.download('popular')\n",
    "nltk.download('punkt_tab')"
   ]
  },
  {
   "cell_type": "code",
   "execution_count": 3,
   "id": "57e3ff72",
   "metadata": {},
   "outputs": [
    {
     "name": "stderr",
     "output_type": "stream",
     "text": [
      "[nltk_data] Downloading package nps_chat to\n",
      "[nltk_data]     C:\\Users\\wgkam\\AppData\\Roaming\\nltk_data...\n",
      "[nltk_data]   Package nps_chat is already up-to-date!\n",
      "[nltk_data] Downloading package webtext to\n",
      "[nltk_data]     C:\\Users\\wgkam\\AppData\\Roaming\\nltk_data...\n",
      "[nltk_data]   Package webtext is already up-to-date!\n"
     ]
    },
    {
     "name": "stdout",
     "output_type": "stream",
     "text": [
      "*** Introductory Examples for the NLTK Book ***\n",
      "Loading text1, ..., text9 and sent1, ..., sent9\n",
      "Type the name of the text or sentence to view it.\n",
      "Type: 'texts()' or 'sents()' to list the materials.\n",
      "text1: Moby Dick by Herman Melville 1851\n",
      "text2: Sense and Sensibility by Jane Austen 1811\n",
      "text3: The Book of Genesis\n",
      "text4: Inaugural Address Corpus\n",
      "text5: Chat Corpus\n",
      "text6: Monty Python and the Holy Grail\n",
      "text7: Wall Street Journal\n",
      "text8: Personals Corpus\n",
      "text9: The Man Who Was Thursday by G . K . Chesterton 1908\n"
     ]
    }
   ],
   "source": [
    "nltk.download('nps_chat')\n",
    "nltk.download('webtext')\n",
    "from nltk.book import *"
   ]
  },
  {
   "cell_type": "code",
   "execution_count": 4,
   "id": "04b61ef0",
   "metadata": {},
   "outputs": [],
   "source": [
    "#pip install spacy scattertext"
   ]
  },
  {
   "cell_type": "code",
   "execution_count": 5,
   "id": "44c1a39e",
   "metadata": {},
   "outputs": [],
   "source": [
    "#!python -m spacy download en_core_web_sm"
   ]
  },
  {
   "cell_type": "code",
   "execution_count": 6,
   "id": "887b9330",
   "metadata": {},
   "outputs": [
    {
     "name": "stdout",
     "output_type": "stream",
     "text": [
      "Displaying 25 of 112 matches:\n",
      "nning God created the heaven and the earth . And the earth was without form , a\n",
      "d the heaven and the earth . And the earth was without form , and void ; and da\n",
      "was so . And God called the dry land Earth ; and the gathering together of the \n",
      "it was good . And God said , Let the earth bring forth grass , the herb yieldin\n",
      "upon the ear and it was so . And the earth brought forth grass , and herb yield\n",
      "of the heaven to give light upon the earth , And to rule over the day and over \n",
      "fe , and fowl that may fly above the earth in the open firmament of heaven . An\n",
      " seas , and let fowl multiply in the earth . And the evening and the morning we\n",
      "e fifth day . And God said , Let the earth bring forth the living creature afte\n",
      "nd creeping thing , and beast of the earth after his ki and it was so . And God\n",
      "s so . And God made the beast of the earth after his kind , and cattle after th\n",
      "d every thing that creepeth upon the earth after his ki and God saw that it was\n",
      "d over the cattle , and over all the earth , and over every creeping thing that\n",
      "reeping thing that creepeth upon the earth . So God created man in his own imag\n",
      "l , and multiply , and replenish the earth , and subdue and have dominion over \n",
      "ry living thing that moveth upon the earth . And God said , Behold , I have giv\n",
      " , which is upon the face of all the earth , and every tree , in the which is t\n",
      "for meat . And to every beast of the earth , and to every fowl of the air , and\n",
      "o every thing that creepeth upon the earth , wherein there is life , I have giv\n",
      "sixth day . Thus the heavens and the earth were finished , and all the host of \n",
      "enerations of the heavens and of the earth when they were created , in the day \n",
      "n the day that the LORD God made the earth and the heavens , And every plant of\n",
      "nt of the field before it was in the earth , and every herb of the field before\n",
      "d had not caused it to rain upon the earth , and there was not a man to till th\n",
      " . But there went up a mist from the earth , and watered the whole face of the \n"
     ]
    }
   ],
   "source": [
    "text3.concordance(\"earth\")"
   ]
  },
  {
   "cell_type": "code",
   "execution_count": null,
   "id": "6446b074",
   "metadata": {},
   "outputs": [
    {
     "name": "stdout",
     "output_type": "stream",
     "text": [
      "land lord men place woman earth waters well city lad day cattle field\n",
      "wife way flood servant people famine pillar\n"
     ]
    }
   ],
   "source": [
    "text3.similar(\"man\")"
   ]
  },
  {
   "cell_type": "code",
   "execution_count": 8,
   "id": "c4efa9b5",
   "metadata": {},
   "outputs": [
    {
     "data": {
      "image/png": "[encoded data removed]",
      "text/plain": [
       "<Figure size 640x480 with 1 Axes>"
      ]
     },
     "metadata": {},
     "output_type": "display_data"
    }
   ],
   "source": [
    "text3.dispersion_plot([\"man\", \"earth\"])"
   ]
  },
  {
   "cell_type": "code",
   "execution_count": 9,
   "id": "d31c6c0a",
   "metadata": {},
   "outputs": [
    {
     "name": "stdout",
     "output_type": "stream",
     "text": [
      "<FreqDist with 2789 samples and 44764 outcomes>\n"
     ]
    }
   ],
   "source": [
    "fdist = FreqDist(text3)\n",
    "print(fdist)"
   ]
  },
  {
   "cell_type": "code",
   "execution_count": 10,
   "id": "c47298b9",
   "metadata": {},
   "outputs": [
    {
     "data": {
      "text/plain": [
       "[(',', 3681),\n",
       " ('and', 2428),\n",
       " ('the', 2411),\n",
       " ('of', 1358),\n",
       " ('.', 1315),\n",
       " ('And', 1250),\n",
       " ('his', 651),\n",
       " ('he', 648),\n",
       " ('to', 611),\n",
       " (';', 605),\n",
       " ('unto', 590),\n",
       " ('in', 588),\n",
       " ('that', 509),\n",
       " ('I', 484),\n",
       " ('said', 476),\n",
       " ('him', 387),\n",
       " ('a', 342),\n",
       " ('my', 325),\n",
       " ('was', 317),\n",
       " ('for', 297),\n",
       " ('it', 290),\n",
       " ('with', 289),\n",
       " ('me', 282),\n",
       " ('thou', 272),\n",
       " (\"'\", 268),\n",
       " ('is', 267),\n",
       " ('thy', 267),\n",
       " ('s', 263),\n",
       " ('thee', 257),\n",
       " ('be', 254),\n",
       " ('shall', 253),\n",
       " ('they', 249),\n",
       " ('all', 245),\n",
       " (':', 238),\n",
       " ('God', 231),\n",
       " ('them', 230),\n",
       " ('not', 224),\n",
       " ('which', 198),\n",
       " ('father', 198),\n",
       " ('will', 195),\n",
       " ('land', 184),\n",
       " ('Jacob', 179),\n",
       " ('came', 177),\n",
       " ('her', 173),\n",
       " ('LORD', 166),\n",
       " ('were', 163),\n",
       " ('she', 161),\n",
       " ('from', 157),\n",
       " ('Joseph', 157),\n",
       " ('their', 153)]"
      ]
     },
     "execution_count": 10,
     "metadata": {},
     "output_type": "execute_result"
    }
   ],
   "source": [
    "fdist.most_common(50)"
   ]
  },
  {
   "cell_type": "code",
   "execution_count": 11,
   "id": "78bc5ce4",
   "metadata": {},
   "outputs": [
    {
     "data": {
      "text/plain": [
       "<Axes: xlabel='Samples', ylabel='Cumulative Counts'>"
      ]
     },
     "execution_count": 11,
     "metadata": {},
     "output_type": "execute_result"
    },
    {
     "data": {
      "image/png": "[encoded data removed]",
      "text/plain": [
       "<Figure size 640x480 with 1 Axes>"
      ]
     },
     "metadata": {},
     "output_type": "display_data"
    }
   ],
   "source": [
    "fdist.plot(50, cumulative=True)"
   ]
  },
  {
   "cell_type": "markdown",
   "id": "4b6c2771",
   "metadata": {},
   "source": [
    "## Task 1"
   ]
  },
  {
   "cell_type": "markdown",
   "id": "16ba4af3",
   "metadata": {},
   "source": [
    "### 1) words that are hapaxes (unique) and those that occur less than 5 times"
   ]
  },
  {
   "cell_type": "code",
   "execution_count": 35,
   "id": "833c7186",
   "metadata": {},
   "outputs": [
    {
     "name": "stdout",
     "output_type": "stream",
     "text": [
      "Less than five words: ['darkness', 'dry', 'Se', 'abundantly', 'dominion', 'bearing', 'host', 'seventh', 'work', 'caused']\n",
      "Hapaxes: ['form', 'void', 'Day', 'Night', 'firmame', 'Heaven', 'appe', 'Earth', 'signs', 'seasons']\n"
     ]
    }
   ],
   "source": [
    "text3_fdist = FreqDist(text3)\n",
    "\n",
    "class FindFeatures(object):\n",
    "    def __init__(self, fdist):\n",
    "        self.fdist = fdist\n",
    "\n",
    "    def less_than_five(self, text):\n",
    "        return [word for word in text if self.fdist[word] < 5]\n",
    "    \n",
    "    def hapaxes(self, text):\n",
    "        return self.fdist.hapaxes()\n",
    "\n",
    "Finder = FindFeatures(tex3_fdist)\n",
    "\n",
    "print(f'Less than five words: {Finder.less_than_five(text3_fdist)[:10]}')\n",
    "print(f'Hapaxes: {Finder.hapaxes(text3_fdist)[:10]}')"
   ]
  },
  {
   "cell_type": "markdown",
   "id": "147862eb",
   "metadata": {},
   "source": [
    "### 2) draw a plot showing mapping from word length to word frequency"
   ]
  },
  {
   "cell_type": "code",
   "execution_count": 41,
   "id": "d0018285",
   "metadata": {},
   "outputs": [
    {
     "data": {
      "image/png": "[encoded data removed]",
      "text/plain": [
       "<Figure size 640x480 with 1 Axes>"
      ]
     },
     "metadata": {},
     "output_type": "display_data"
    }
   ],
   "source": [
    "import matplotlib.pyplot as plt\n",
    "\n",
    "length_freq = {length: sum(f for w, f in fdist.items() if len(w) == length)\n",
    "               for length in set(len(w) for w in fdist)}\n",
    "\n",
    "x, y = zip(*sorted(length_freq.items()))\n",
    "\n",
    "plt.plot(x, y, marker='o')\n",
    "plt.title('Word Length vs Frequency')\n",
    "plt.xlabel('Word Length')\n",
    "plt.ylabel('Total Frequency')\n",
    "plt.grid(True)\n",
    "plt.show()\n",
    "\n"
   ]
  },
  {
   "cell_type": "markdown",
   "id": "24502425",
   "metadata": {},
   "source": [
    "### 3) find 10 most frequent words occurring at the end of the sentence"
   ]
  },
  {
   "cell_type": "code",
   "execution_count": null,
   "id": "a02d33d2",
   "metadata": {},
   "outputs": [
    {
     "name": "stdout",
     "output_type": "stream",
     "text": [
      "Top 10 words at sentence ends: [('him', 56), ('earth', 30), ('me', 27), ('thee', 26), ('them', 25), ('son', 22), ('wife', 18), ('egypt', 18), ('it', 16), ('lord', 16)]\n"
     ]
    }
   ],
   "source": [
    "raw = ' '.join(text3)\n",
    "\n",
    "sentences = [s.strip() for s in raw.split('.') if s.strip()]\n",
    "end_words = [s.split()[-1].lower() for s in sentences if s.split()]\n",
    "\n",
    "fdist_end = FreqDist(end_words)\n",
    "print(\"Top 10 words at sentence ends:\", fdist_end.most_common(10))"
   ]
  },
  {
   "cell_type": "markdown",
   "id": "d8c1839f",
   "metadata": {},
   "source": [
    "## Task 2"
   ]
  },
  {
   "cell_type": "code",
   "execution_count": null,
   "id": "50248fb6",
   "metadata": {},
   "outputs": [
    {
     "name": "stdout",
     "output_type": "stream",
     "text": [
      "['THE', 'HOLY', 'QURAN', '(', 'KORAN', ')', 'English', 'Translation', 'of', 'the', 'Meanings', 'by', 'Mohammad', 'Marmaduke', 'Pickthal', 'Formatting', 'by', 'William', 'B', '.']\n"
     ]
    }
   ],
   "source": [
    "with open('Quran.txt', 'r', encoding='utf-8') as f:\n",
    "    raw = f.read()\n",
    "\n",
    "tokens = nltk.word_tokenize(raw)\n",
    "quran_text = nltk.Text(tokens)\n",
    "\n",
    "print(quran_text[:20])  # First 20 tokens\n"
   ]
  }
 ],
 "metadata": {
  "kernelspec": {
   "display_name": "Python 3",
   "language": "python",
   "name": "python3"
  },
  "language_info": {
   "codemirror_mode": {
    "name": "ipython",
    "version": 3
   },
   "file_extension": ".py",
   "mimetype": "text/x-python",
   "name": "python",
   "nbconvert_exporter": "python",
   "pygments_lexer": "ipython3",
   "version": "3.13.2"
  }
 },
 "nbformat": 4,
 "nbformat_minor": 5
}
